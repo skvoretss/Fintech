{
  "cells": [
    {
      "cell_type": "code",
      "execution_count": null,
      "metadata": {
        "id": "WYGN1xUTWFRu"
      },
      "outputs": [],
      "source": [
        "import numpy as np\n",
        "import collections\n",
        "import matplotlib.pyplot as plt\n",
        "import scipy.interpolate\n",
        "import scipy.optimize\n",
        "import sympy\n",
        "import pandas as pd\n",
        "\n",
        "#доопределим данные в точке 0 мясяцев = -0.700\n",
        "curve_tenors = np.array([0.0, 1/12, 1/6, 0.25, 0.5, 1.0, 2.0, 3.0, 4.0, 5.0, 6.0, 7.0, 8.0, 9.0, 10.0, 15.0, 20.0, 30.0])\n",
        "curve_rates = np.array([-0.700, -0.700, -0.750, -0.700, -0.580, -0.600, -0.375, -0.194, -0.120, -0.008, -0.004, 0.165, 0.225, 0.301, 0.355, 0.491, 0.489, 0.473])*1e-2\n",
        "f = scipy.interpolate.interp1d(curve_tenors, curve_rates, kind = 'cubic')\n",
        "\n",
        "dr = 1e-4"
      ]
    },
    {
      "cell_type": "markdown",
      "metadata": {
        "id": "6XyuJcWrWFR1"
      },
      "source": [
        "# Задача № 1"
      ]
    },
    {
      "cell_type": "code",
      "execution_count": null,
      "metadata": {
        "id": "uZi5_lplWFR4",
        "outputId": "7c9b1f12-776b-4133-e0bf-ae35ef2ae214"
      },
      "outputs": [
        {
          "data": {
            "text/plain": [
              "Timedelta('273 days 00:00:00')"
            ]
          },
          "execution_count": 38,
          "metadata": {},
          "output_type": "execute_result"
        }
      ],
      "source": [
        "pd.to_datetime('06.28.2022') - pd.to_datetime('09.28.2021')"
      ]
    },
    {
      "cell_type": "code",
      "execution_count": null,
      "metadata": {
        "id": "FmyI8t70WFR6",
        "outputId": "7320e19e-2dda-452c-eddb-9522bcc047d1"
      },
      "outputs": [
        {
          "data": {
            "text/plain": [
              "-2.260595984066697"
            ]
          },
          "execution_count": 39,
          "metadata": {},
          "output_type": "execute_result"
        }
      ],
      "source": [
        "days = np.array([273, 360, 360, 360, 360, 360, 360, 360, 360, 360, 360, 360, 360, 360, 360, 360, 360, 360, 360, 360, 360, 360, 360, 360])\n",
        "payments = np.array([5 / 360 * 273, 5, 5, 5, 5, 5, 5, 5, 5, 5, 5, 5, 5, 5, 5, 5, 5, 5, 5, 5, 5, 5, 5, 1005])\n",
        "\n",
        "years = np.cumsum(days) / 360\n",
        "rates = f(years)\n",
        "\n",
        "def pv(rates, years, payments):\n",
        "    df = np.power(1 / (rates + 1.0), years)\n",
        "    return np.sum(df*payments)\n",
        "\n",
        "dv01 = 0.5 * (pv(rates + dr, years, payments) - pv(rates - dr, years, payments))\n",
        "dv01"
      ]
    },
    {
      "cell_type": "markdown",
      "metadata": {
        "id": "RP8dyE-iWFR7"
      },
      "source": [
        "# Задача № 2"
      ]
    },
    {
      "cell_type": "markdown",
      "metadata": {
        "id": "rfZ1qxVnWFR7"
      },
      "source": [
        "### Пункт 1"
      ]
    },
    {
      "cell_type": "code",
      "execution_count": null,
      "metadata": {
        "id": "uunl-0wMWFR8",
        "outputId": "a8457e4a-c3f7-48ff-8003-5d525edf5e1f"
      },
      "outputs": [
        {
          "data": {
            "text/plain": [
              "Timedelta('92 days 00:00:00')"
            ]
          },
          "execution_count": 40,
          "metadata": {},
          "output_type": "execute_result"
        }
      ],
      "source": [
        "pd.to_datetime('06.23.2022') - pd.to_datetime('03.23.2022')"
      ]
    },
    {
      "cell_type": "code",
      "execution_count": null,
      "metadata": {
        "id": "YuUNJVKQWFR9",
        "outputId": "9e460502-c0f7-4bfd-dee1-a03016dd009f"
      },
      "outputs": [
        {
          "data": {
            "text/plain": [
              "-1.7880381401593644"
            ]
          },
          "execution_count": 41,
          "metadata": {},
          "output_type": "execute_result"
        }
      ],
      "source": [
        "new_days = np.array([92, 360, 360, 360, 360, 360, 360, 360, 360, 360, 360, 360, 360, 360])\n",
        "new_payments = np.array([2.5/360 * 92, 2.5, 2.5, 2.5, 2.5, 2.5, 2.5, 2.5, 2.5, 2.5, 2.5, 2.5, 2.5, 1002.5])\n",
        "\n",
        "new_years = np.cumsum(new_days) / 360\n",
        "new_rates = f(new_years)\n",
        "dv01_hedge = 0.5 * (pv(new_rates + dr, new_years, new_payments) - pv(new_rates - dr, new_years, new_payments))\n",
        "\n",
        "dv01_trade = dv01\n",
        "\n",
        "beta = - dv01_trade / dv01_hedge\n",
        "beta"
      ]
    },
    {
      "cell_type": "markdown",
      "metadata": {
        "id": "-kSBZuGxWFR-"
      },
      "source": [
        "### Пункт 2"
      ]
    },
    {
      "cell_type": "code",
      "execution_count": null,
      "metadata": {
        "id": "qPvzGwxyWFR_"
      },
      "outputs": [],
      "source": [
        "delta = np.arange(dr-1e-3, dr+1e-3, 1e-4)\n",
        "pv_y = [pv(rates + i, years, payments) + beta*pv(new_rates + i, new_years, new_payments) for i in delta]"
      ]
    },
    {
      "cell_type": "code",
      "execution_count": null,
      "metadata": {
        "id": "N0l8b-i8WFR_",
        "outputId": "015ad579-182c-4a3a-b4ad-6af21b4c41c7"
      },
      "outputs": [
        {
          "data": {
            "text/plain": [
              "[<matplotlib.lines.Line2D at 0x22eecb9b8b0>]"
            ]
          },
          "execution_count": 76,
          "metadata": {},
          "output_type": "execute_result"
        },
        {
          "data": {
            "image/png": "[encoded data removed]",
            "text/plain": [
              "<Figure size 432x288 with 1 Axes>"
            ]
          },
          "metadata": {
            "needs_background": "light"
          },
          "output_type": "display_data"
        }
      ],
      "source": [
        "labels = []\n",
        "\n",
        "for i in delta[1::2]:\n",
        "    labels.append('%.0e' % i)\n",
        "\n",
        "plt.xticks(delta[::2], labels)\n",
        "plt.plot(delta, pv_y)"
      ]
    },
    {
      "cell_type": "code",
      "execution_count": null,
      "metadata": {
        "id": "Qk3KRuyZWFSA"
      },
      "outputs": [],
      "source": [
        ""
      ]
    }
  ],
  "metadata": {
    "kernelspec": {
      "display_name": "Python 3",
      "language": "python",
      "name": "python3"
    },
    "language_info": {
      "codemirror_mode": {
        "name": "ipython",
        "version": 3
      },
      "file_extension": ".py",
      "mimetype": "text/x-python",
      "name": "python",
      "nbconvert_exporter": "python",
      "pygments_lexer": "ipython3",
      "version": "3.8.3"
    },
    "colab": {
      "name": "BondRisks.ipynb",
      "provenance": []
    }
  },
  "nbformat": 4,
  "nbformat_minor": 0
}