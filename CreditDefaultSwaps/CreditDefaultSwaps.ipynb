{
  "cells": [
    {
      "cell_type": "code",
      "execution_count": null,
      "metadata": {
        "id": "g_-FxXvQWFKg"
      },
      "outputs": [],
      "source": [
        "import numpy as np\n",
        "import collections\n",
        "import matplotlib.pyplot as plt\n",
        "import scipy.interpolate\n",
        "import scipy.optimize\n",
        "import sympy\n",
        "import pandas as pd"
      ]
    },
    {
      "cell_type": "markdown",
      "metadata": {
        "id": "zMR8HbfhWFKk"
      },
      "source": [
        "# Решение:"
      ]
    },
    {
      "cell_type": "code",
      "execution_count": null,
      "metadata": {
        "id": "jybwIZ50WFKm",
        "outputId": "227503af-4e12-41be-bf41-13df1245624e"
      },
      "outputs": [
        {
          "name": "stdout",
          "output_type": "stream",
          "text": [
            "x = 2.1226543554097335 %\n"
          ]
        }
      ],
      "source": [
        "# доопределили нулем в момент времени 0\n",
        "Germany = np.array([0, -0.455, 0.059, 0.241, 0.404, 0.536, 0.561, 0.578, 0.609, 0.646, 0.711]) / 100\n",
        "Italy = np.array([0, -0.320, 0.501, 1.183, 1.464, 1.541, 1.819, 1.966, 2.221, 2.334, 2.385]) / 100\n",
        "years = np.array([i for i in range(11)])\n",
        "\n",
        "R = 0.4\n",
        "D = np.array([(i+1)*(Italy[i] - Germany[i]) for i in range(11)])\n",
        "D = D / (1 - R)\n",
        "S = 1 - D # в момент времени 0 S(0) = 1\n",
        "f = scipy.interpolate.interp1d(years, S, kind = 'linear')\n",
        "\n",
        "#считаем, что своп у нас 10-летний, потому что ну не зря же мы столько значений в таблицы выписали \n",
        "tenors = [i*0.25 for i in range(1, 41)]\n",
        "values = f(tenors)\n",
        "total_pay = np.sum(values)\n",
        "x = 4*(1-R)*(1-S[10])/total_pay\n",
        "print('x =',x*100, '%')"
      ]
    },
    {
      "cell_type": "markdown",
      "metadata": {
        "id": "FAwihrVPWFKn"
      },
      "source": [
        "## Проверка:"
      ]
    },
    {
      "cell_type": "code",
      "execution_count": null,
      "metadata": {
        "id": "-83b_6NHWFKn",
        "outputId": "8d3ed2b3-cb0c-4305-f193-52fbf5361a6b"
      },
      "outputs": [
        {
          "name": "stdout",
          "output_type": "stream",
          "text": [
            "x = 2.9289965741208075 %\n"
          ]
        }
      ],
      "source": [
        "# доопределили нулем в момент времени 0\n",
        "Germany = np.array([0, -0.455, 0.059, 0.241, 0.404, 0.536, 0.561, 0.578, 0.609, 0.646, 0.711]) / 100\n",
        "\n",
        "# увеличим риски по Италии\n",
        "Italy = np.array([0, -0.320, 0.501, 1.183, 1.464, 1.541, 1.819, 1.966, 2.221, 2.334, 2.385]) + 0.5\n",
        "Italy /= 100\n",
        "years = np.array([i for i in range(11)])\n",
        "\n",
        "R = 0.4\n",
        "D = np.array([(i+1)*(Italy[i] - Germany[i]) for i in range(11)])\n",
        "D = D / (1 - R)\n",
        "S = 1 - D # в момент времени 0 S(0) = 1\n",
        "f = scipy.interpolate.interp1d(years, S, kind = 'linear')\n",
        "\n",
        "#считаем, что своп у нас 10-летний, потому что ну не зря же мы столько значений в таблицы выписали \n",
        "tenors = [i*0.25 for i in range(1, 41)]\n",
        "values = f(tenors)\n",
        "total_pay = np.sum(values)\n",
        "x = 4*(1-R)*(1-S[10])/total_pay\n",
        "print('x =',x*100, '%')"
      ]
    },
    {
      "cell_type": "markdown",
      "metadata": {
        "id": "zCd8N1DlWFKp"
      },
      "source": [
        "Цена свопа увеличилась по мере увеличения шансов дефолта рискового эмитента, значит все в норме (за больший риск продавец получает больше денег, а покупатель вынужден платить больше, т.к. страховка становится необходимостью)"
      ]
    },
    {
      "cell_type": "code",
      "execution_count": null,
      "metadata": {
        "id": "EG4hc9ZjWFKp"
      },
      "outputs": [],
      "source": [
        ""
      ]
    }
  ],
  "metadata": {
    "kernelspec": {
      "display_name": "Python 3",
      "language": "python",
      "name": "python3"
    },
    "language_info": {
      "codemirror_mode": {
        "name": "ipython",
        "version": 3
      },
      "file_extension": ".py",
      "mimetype": "text/x-python",
      "name": "python",
      "nbconvert_exporter": "python",
      "pygments_lexer": "ipython3",
      "version": "3.8.3"
    },
    "colab": {
      "name": "CreditDefaultSwaps.ipynb",
      "provenance": []
    }
  },
  "nbformat": 4,
  "nbformat_minor": 0
}