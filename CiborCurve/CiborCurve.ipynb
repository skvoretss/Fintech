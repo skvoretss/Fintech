{
  "cells": [
    {
      "cell_type": "code",
      "execution_count": null,
      "metadata": {
        "id": "VElTAV_G2kQl"
      },
      "outputs": [],
      "source": [
        "# L3_9\n",
        "l3, l6, x = sympy.symbols('L3 L6 x')\n",
        "sympy.solve((1+0.5*l6) - (1+0.25*l3)*(1+0.25*x), x)"
      ]
    },
    {
      "cell_type": "code",
      "execution_count": null,
      "metadata": {
        "id": "12kH4_ih2kQq",
        "outputId": "83561227-786d-4960-c4d9-5c0e4a61e137"
      },
      "outputs": [
        {
          "data": {
            "text/plain": [
              "[<matplotlib.lines.Line2D at 0x197ccc71640>]"
            ]
          },
          "execution_count": 49,
          "metadata": {},
          "output_type": "execute_result"
        },
        {
          "data": {
            "image/png": "[encoded data removed]",
            "text/plain": [
              "<Figure size 432x288 with 1 Axes>"
            ]
          },
          "metadata": {
            "needs_background": "light"
          },
          "output_type": "display_data"
        }
      ],
      "source": [
        "import numpy as np\n",
        "import collections\n",
        "import matplotlib.pyplot as plt\n",
        "import scipy.interpolate\n",
        "import scipy.optimize\n",
        "import sympy\n",
        "\n",
        "L3 = -0.2233\n",
        "L6 = -0.0633\n",
        "L9 = 0.1000\n",
        "L12 = 0.3000\n",
        "\n",
        "S1 = 0.167\n",
        "S2 = 0.785\n",
        "S3 = 1.063\n",
        "S5 = 1.242\n",
        "\n",
        "L3_6 = 4.0*(-L3 + 2.0*L6)/(L3 + 4.0)\n",
        "\n",
        "def DCounter(i, L):\n",
        "    if i == 0:\n",
        "        D = 1/(1+0.25*L[i])\n",
        "    else:\n",
        "        c = DCounter(i-1, L)\n",
        "        k = (i+1)%4\n",
        "        if (i+1)%4 == 0:\n",
        "            k = 4\n",
        "        D = c/(1+0.25*k*L[i])\n",
        "    return D\n",
        "    \n",
        "def firstYear(L3, L3_6, x):\n",
        "    f = scipy.interpolate.interp1d([3, 6, 12],[L3, L3_6, x], 'quadratic')\n",
        "    L6_9 = f(9)\n",
        "    D3 = 1/(1+0.25*L3)\n",
        "    D6 = D3/(1+0.5*L3_6)\n",
        "    D9 = D6/(1+0.75*L6_9)\n",
        "    D12 = D9/(1+x)\n",
        "    return D12\n",
        "\n",
        "D12 = 1/(1+L12)\n",
        "L9_12 = scipy.optimize.broyden1(lambda x: firstYear(L3, L3_6, x) - D12, 1.0, f_tol = 1e-6)\n",
        "\n",
        "f = scipy.interpolate.interp1d([3,6,12],[L3, L3_6, L9_12], 'quadratic')\n",
        "tenors1Y = [3, 6, 9, 12]\n",
        "curve1Y = f(tenors1Y)\n",
        "plt.plot(tenors1Y, curve1Y)\n",
        "\n",
        "def secondYear(x, S2, L):\n",
        "    D12 = DCounter(3, L)\n",
        "    f = scipy.interpolate.interp1d([3, 6, 9, 12, 24], np.append(L, x), 'quadratic')\n",
        "    \n",
        "    D15 = D12/(1+0.25*f(15))\n",
        "    D18 = D15/(1+0.5*f(18))\n",
        "    D21 = D18/(1+0.75*f(21))\n",
        "    D24 = D21/(1+x)\n",
        "    \n",
        "    return 0.25*S2*(D15 + D18 + D21 + D24) - 1 + D24 \n",
        "\n",
        " \n",
        "L24 = scipy.optimize.broyden1(lambda x: secondYear(x, S2, curve1Y), 1.0, f_tol = 1e-6)\n",
        "f = scipy.interpolate.interp1d([3, 6, 9, 12, 24], np.append(curve1Y, L24), 'quadratic')\n",
        "tenors2Y = [3, 6, 9, 12, 15, 18, 21, 24]\n",
        "curve2Y = f(tenors2Y)\n",
        "\n",
        "def thirdYear(x, S3, L):\n",
        "    D24 = DCounter(7, L)\n",
        "    f = scipy.interpolate.interp1d([3, 6, 9, 12, 15, 18, 21, 24, 36], np.append(L, x), 'quadratic')\n",
        "    \n",
        "    D27 = D24/(1+0.25*f(27))\n",
        "    D30 = D27/(1+0.5*f(30))\n",
        "    D33 = D30/(1+0.75*f(33))\n",
        "    D36 = D33/(1+x)\n",
        "    return 0.25*S3*(D27 + D30 + D33 + D36) - 1 + D36\n",
        "\n",
        "L36 = scipy.optimize.broyden1(lambda x: thirdYear(x, S3, curve2Y), 0.5, f_tol = 1e-6)\n",
        "f = scipy.interpolate.interp1d([3, 6, 9, 12, 15, 18, 21, 24, 36], np.append(curve2Y, L36), 'quadratic')\n",
        "tenors3Y = [i for i in range(3, 39, 3)] # до 36\n",
        "curve3Y = f(tenors3Y)\n",
        "\n",
        "def fifthYear(x, S5, L):\n",
        "    D36 = DCounter(11, L)\n",
        "    index = [i for i in range(3, 39, 3)] # до 36\n",
        "    f = scipy.interpolate.interp1d(np.append(index, 60), np.append(L, x), 'quadratic')\n",
        "    \n",
        "    D39 = D36/(1+0.25*f(39))\n",
        "    D42 = D39/(1+0.5*f(42))\n",
        "    D45 = D42/(1+0.75*f(45))\n",
        "    D48 = D45/(1+f(48))\n",
        "    \n",
        "    D51 = D48/(1+0.25*f(51))\n",
        "    D54 = D51/(1+0.5*f(54))\n",
        "    D57 = D54/(1+0.75*f(57))\n",
        "    D60 = D57/(1+x)\n",
        "    \n",
        "    return 0.25*S5*(D51 + D54 + D57 + D60) - 1 + D60\n",
        "\n",
        "index = [i for i in range(3, 39, 3)] # до 36\n",
        "L60 = scipy.optimize.broyden1(lambda x: fifthYear(x, S5, curve3Y), 1.0, f_tol = 1e-6)\n",
        "f = scipy.interpolate.interp1d(np.append(index, 60), np.append(curve3Y, L60), 'quadratic')\n",
        "tenors5Y = [i for i in range(3, 63, 3)] # до 60\n",
        "curve5Y = f(tenors5Y)\n",
        "plt.plot(tenors5Y, curve5Y)"
      ]
    }
  ],
  "metadata": {
    "kernelspec": {
      "display_name": "Python 3",
      "language": "python",
      "name": "python3"
    },
    "language_info": {
      "codemirror_mode": {
        "name": "ipython",
        "version": 3
      },
      "file_extension": ".py",
      "mimetype": "text/x-python",
      "name": "python",
      "nbconvert_exporter": "python",
      "pygments_lexer": "ipython3",
      "version": "3.8.3"
    },
    "colab": {
      "name": "CiborCurve.ipynb",
      "provenance": [],
      "collapsed_sections": []
    }
  },
  "nbformat": 4,
  "nbformat_minor": 0
}