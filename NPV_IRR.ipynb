{
 "cells": [
  {
   "cell_type": "code",
   "execution_count": 1,
   "metadata": {},
   "outputs": [
    {
     "name": "stdout",
     "output_type": "stream",
     "text": [
      "Please, input par value:\n",
      "100\n",
      "Please, choose type of procent - simple or compounding [s/c]:\n",
      "s\n",
      "Please, input coupon income(in procent):\n",
      "10\n",
      "Please, input maturity date(in years):\n",
      "3\n",
      "Please, input discount rate(in procent):\n",
      "5\n",
      "NPV =  13.616240146852391\n",
      "IRR_min =  0.09139288306110593\n"
     ]
    }
   ],
   "source": [
    "# getting value with checking mistakes\n",
    "print(\"Please, input par value:\")\n",
    "par = float(input())\n",
    "while par <= 0:\n",
    "    print(\"Par value is out of range, try again:\")\n",
    "    par = float(input())\n",
    "    \n",
    "print(\"Please, choose type of procent - simple or compounding [s/c]:\")\n",
    "tp = input()\n",
    "while (tp != 's') and (tp != 'c'):\n",
    "    print('Wrong value for type of procent, try again [s/c]')\n",
    "    tp = input()\n",
    "    \n",
    "print(\"Please, input coupon income(in procent):\")\n",
    "ci = float(input())\n",
    "while (ci <= 0) or (ci > 100):\n",
    "    print(\"Coupon income value is out of range, try again:\")\n",
    "    ci = float(input())\n",
    "\n",
    "if tp == 'c':\n",
    "    print(\"Please, input accrual period(in months):\")\n",
    "    ap = int(input())\n",
    "    while (ap <= 0) or (ap > 12) or (12 % ap != 0):\n",
    "        print(\"Accrual period value is out of range or 12%ap != 0, try again:\")\n",
    "        ap = int(input())\n",
    "      \n",
    "    print(\"Please, choose continuous compounding [n/y]:\")\n",
    "    cc = input()\n",
    "    while (cc != 'n') and (cc != 'y'):\n",
    "        print('Wrong value for continuous compounding, try again [n/y]')\n",
    "        cc = input()\n",
    "    \n",
    "print(\"Please, input maturity date(in years):\")\n",
    "md = int(input())\n",
    "while md <= 0:\n",
    "    print(\"Maturity date value is out of range, try again:\")\n",
    "    md = int(input())\n",
    "    \n",
    "print(\"Please, input discount rate(in procent):\")\n",
    "r = float(input())\n",
    "while (r > 100) or (r <= 0):\n",
    "    print(\"Discount rate value is out of range, try again:\")\n",
    "    r = float(input())\n",
    "    \n",
    "# starting calculation\n",
    "\n",
    "# CF\n",
    "if tp == 's': # если процент простой\n",
    "    CF = ci/100*par\n",
    "        \n",
    "else: # если процент сложный\n",
    "    if cc == 'y': # если есть непрерывное начисление\n",
    "        CF = par*exp(ci/100) - par\n",
    "\n",
    "    else:\n",
    "        times = 12/ap # считаем, сколько раз за год происходила капитализация\n",
    "        CF = par*(1+(ci/100)/times)**times - par\n",
    "\n",
    "# NPV\n",
    "PV = par\n",
    "FV = 0\n",
    "for t in range(1, md + 1):\n",
    "    df = 1/((1+r/100)**t)\n",
    "    if t == md:\n",
    "        CF += par\n",
    "    FV += CF*df        \n",
    "print(\"NPV = \", FV - PV)\n",
    "\n",
    "# IRR\n",
    "print(\"IRR_min = \", -1 + ( ((CF-par)*(md-1) + CF) / par )**(1/md) )"
   ]
  },
  {
   "cell_type": "code",
   "execution_count": null,
   "metadata": {},
   "outputs": [],
   "source": []
  }
 ],
 "metadata": {
  "kernelspec": {
   "display_name": "Python 3",
   "language": "python",
   "name": "python3"
  },
  "language_info": {
   "codemirror_mode": {
    "name": "ipython",
    "version": 3
   },
   "file_extension": ".py",
   "mimetype": "text/x-python",
   "name": "python",
   "nbconvert_exporter": "python",
   "pygments_lexer": "ipython3",
   "version": "3.8.3"
  }
 },
 "nbformat": 4,
 "nbformat_minor": 4
}
